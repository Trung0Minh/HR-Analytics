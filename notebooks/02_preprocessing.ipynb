{
 "cells": [
  {
   "cell_type": "markdown",
   "metadata": {},
   "source": [
    "# Tiền xử lý dữ liệu - HR Analytics"
   ]
  },
  {
   "cell_type": "markdown",
   "metadata": {},
   "source": [
    "**Mục tiêu:** Notebook này thực hiện các bước tiền xử lý cần thiết cho bộ dữ liệu HR Analytics, bao gồm xử lý giá trị thiếu và mã hóa đặc trưng. Chúng ta sẽ sử dụng các hàm từ `src/data_processing.py`."
   ]
  },
  {
   "cell_type": "markdown",
   "metadata": {},
   "source": [
    "## 1. Giới thiệu và Load Dữ liệu"
   ]
  },
  {
   "cell_type": "code",
   "execution_count": null,
   "metadata": {},
   "outputs": [],
   "source": [
    "# Thêm đường dẫn đến thư mục src\n",
    "import sys\n",
    "sys.path.append('../src')\n",
    "\n",
    "# Import các thư viện và hàm cần thiết\n",
    "import numpy as np\n",
    "from data_processing import load_data, get_missing_summary\n",
    "\n",
    "# Tải dữ liệu\n",
    "filepath = '../data/raw/aug_train.csv'\n",
    "data = load_data(filepath)\n",
    "\n",
    "# Hiển thị tóm tắt giá trị thiếu ban đầu\n",
    "print(\"--- Tóm tắt giá trị thiếu ban đầu ---\")\n",
    "missing_summary = get_missing_summary(data)\n",
    "for col, summary in missing_summary.items():\n",
    "    print(f\"{col}: {summary['missing_count']} ({summary['missing_percentage']:.2f}%)\")"
   ]
  },
  {
   "cell_type": "markdown",
   "metadata": {},
   "source": [
    "## 2. Xử lý Giá trị Thiếu (Missing Values)"
   ]
  },
  {
   "cell_type": "markdown",
   "metadata": {},
   "source": [
    "Chúng ta sẽ điền các giá trị bị thiếu bằng các chiến lược khác nhau: 'median' cho các cột số và 'mode' cho các cột phân loại."
   ]
  },
  {
   "cell_type": "code",
   "execution_count": null,
   "metadata": {},
   "outputs": [],
   "source": [
    "# Import hàm cần thiết\n",
    "from data_processing import impute_missing_values\n",
    "\n",
    "# Điền giá trị thiếu\n",
    "for col in data.dtype.names:\n",
    "    if np.issubdtype(data[col].dtype, np.number):\n",
    "        data = impute_missing_values(data, col, strategy='median')\n",
    "    else:\n",
    "        data = impute_missing_values(data, col, strategy='mode')\n",
    "\n",
    "# Hiển thị tóm tắt giá trị thiếu sau khi điền\n",
    "print(\"--- Tóm tắt giá trị thiếu sau khi điền ---\")\n",
    "missing_summary_after = get_missing_summary(data)\n",
    "for col, summary in missing_summary_after.items():\n",
    "    print(f\"{col}: {summary['missing_count']} ({summary['missing_percentage']:.2f}%)\")"
   ]
  },
  {
   "cell_type": "markdown",
   "metadata": {},
   "source": [
    "## 3. Mã hóa Đặc trưng Phân loại (Categorical Feature Encoding)"
   ]
  },
  {
   "cell_type": "markdown",
   "metadata": {},
   "source": [
    "Chúng ta sẽ sử dụng mã hóa one-hot cho các đặc trưng phân loại để chuyển chúng thành dạng số mà các mô hình học máy có thể sử dụng."
   ]
  },
  {
   "cell_type": "code",
   "execution_count": null,
   "metadata": {},
   "outputs": [],
   "source": [
    "# Import hàm cần thiết\n",
    "from data_processing import one_hot_encode\n",
    "\n",
    "# Mã hóa one-hot\n",
    "categorical_cols = [name for name, dtype in data.dtype.fields.items() if not np.issubdtype(dtype[0], np.number)]\n",
    "for col in categorical_cols:\n",
    "    data = one_hot_encode(data, col)\n",
    "\n",
    "# Hiển thị thông tin sau khi mã hóa\n",
    "print(\"--- Dữ liệu sau khi mã hóa ---\")\n",
    "print(data.dtype.names)\n",
    "print(data[:5])"
   ]
  },
  {
   "cell_type": "markdown",
   "metadata": {},
   "source": [
    "## 4. Lưu Dữ liệu đã Tiền xử lý"
   ]
  },
  {
   "cell_type": "code",
   "execution_count": null,
   "metadata": {},
   "outputs": [],
   "source": [
    "# Lưu dữ liệu đã xử lý\n",
    "np.save('../data/processed/processed_train.npy', data)"
   ]
  }
 ],
 "metadata": {
  "kernelspec": {
   "display_name": "Python 3",
   "language": "python",
   "name": "python3"
  },
  "language_info": {
   "codemirror_mode": {
    "name": "ipython",
    "version": 3
   },
   "file_extension": ".py",
   "mimetype": "text/x-python",
   "name": "python",
   "nbconvert_exporter": "python",
   "pygments_lexer": "ipython3",
   "version": "3.8.10"
  }
 },
 "nbformat": 4,
 "nbformat_minor": 4
}
